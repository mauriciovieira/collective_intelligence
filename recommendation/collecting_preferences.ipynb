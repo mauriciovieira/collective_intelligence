{
 "cells": [
  {
   "cell_type": "markdown",
   "metadata": {},
   "source": [
    "# First steps following the book"
   ]
  },
  {
   "cell_type": "code",
   "execution_count": 8,
   "metadata": {
    "collapsed": true
   },
   "outputs": [],
   "source": [
    "critics = {\n",
    "    'Lisa Rose': {\n",
    "        'Lady in the Water': 2.5, \n",
    "        'Snakes on a Plane': 3.5, \n",
    "        'Just My Luck': 3.0, \n",
    "        'Superman Returns': 3.5, \n",
    "        'You, Me and Dupree': 2.5, \n",
    "        'The Night Listener': 3.0,\n",
    "    },\n",
    "    'Gene Seymour': {\n",
    "        'Lady in the Water': 3.0,\n",
    "        'Snakes on a Plane': 3.5,\n",
    "        'Just My Luck': 1.5,\n",
    "        'Superman Returns': 5.0,\n",
    "        'You, Me and Dupree': 3.5,\n",
    "        'The Night Listener': 3.0,\n",
    "    },\n",
    "    'Michael Phillips': {\n",
    "        'Lady in the Water': 2.5,\n",
    "        'Snakes on a Plane': 3.0, \n",
    "        'Superman Returns': 3.5, \n",
    "        'The Night Listener': 4.0,\n",
    "    },\n",
    "    'Claudia Puig': {\n",
    "        'Snakes on a Plane': 3.5,\n",
    "        'Just My Luck': 3.0,\n",
    "        'The Night Listener': 4.5,\n",
    "        'Superman Returns': 4.0,\n",
    "        'You, Me and Dupree': 2.5,\n",
    "    },\n",
    "    'Mick LaSalle': {\n",
    "        'Lady in the Water': 3.0,\n",
    "        'Snakes on a Plane': 4.0, \n",
    "        'Just My Luck': 2.0, \n",
    "        'Superman Returns': 3.0, \n",
    "        'The Night Listener': 3.0,\n",
    "        'You, Me and Dupree': 2.0,\n",
    "    },\n",
    "    'Jack Mattews': {\n",
    "        'Lady in the Water': 3.0,\n",
    "        'Snakes on a Plane': 4.0, \n",
    "        'The Night Listener': 3.0,\n",
    "        'Superman Returns': 5.0,\n",
    "        'You, Me and Dupree': 3.5,\n",
    "    },\n",
    "    'Toby': {\n",
    "        'Snakes on a Plane': 4.5,\n",
    "        'You, Me and Dupree': 1.0,\n",
    "        'Superman Returns': 4.0,\n",
    "    }\n",
    "}"
   ]
  },
  {
   "cell_type": "code",
   "execution_count": 9,
   "metadata": {
    "collapsed": false
   },
   "outputs": [
    {
     "data": {
      "text/plain": [
       "2.5"
      ]
     },
     "execution_count": 9,
     "metadata": {},
     "output_type": "execute_result"
    }
   ],
   "source": [
    "critics['Lisa Rose']['Lady in the Water']"
   ]
  },
  {
   "cell_type": "code",
   "execution_count": 10,
   "metadata": {
    "collapsed": false
   },
   "outputs": [
    {
     "data": {
      "text/plain": [
       "{'Snakes on a Plane': 4.5, 'Superman Returns': 4.0, 'You, Me and Dupree': 1.0}"
      ]
     },
     "execution_count": 10,
     "metadata": {},
     "output_type": "execute_result"
    }
   ],
   "source": [
    "critics['Toby']"
   ]
  },
  {
   "cell_type": "markdown",
   "metadata": {},
   "source": [
    "## Finding similar users\n",
    "\n",
    "TODO: draw a plot y = movie1, x = movie2 for all users\n",
    "\n"
   ]
  },
  {
   "cell_type": "markdown",
   "metadata": {},
   "source": [
    "### Euclidean similarity distance\n",
    "\n",
    "0 if nothing in common, 1 if equal"
   ]
  },
  {
   "cell_type": "code",
   "execution_count": 27,
   "metadata": {
    "collapsed": true
   },
   "outputs": [],
   "source": [
    "def get_shared_items(scores, person1, person2):\n",
    "    shared_items = {}\n",
    "    for item in scores[person1]:\n",
    "        if item in scores[person2]:\n",
    "            shared_items[item] = True\n",
    "    return shared_items"
   ]
  },
  {
   "cell_type": "code",
   "execution_count": 33,
   "metadata": {
    "collapsed": true
   },
   "outputs": [],
   "source": [
    "def similarity_euclides(scores, person1, person2):\n",
    "    shared_items = get_shared_items(scores, person1, person2)\n",
    "    if len(shared_items) == 0:\n",
    "        return 0\n",
    "    \n",
    "    sum_of_squares = sum(pow(scores[person1][item] - scores[person2][item], 2)\n",
    "                        for item in shared_items.keys())\n",
    "    \n",
    "    return 1/(1 + sum_of_squares)"
   ]
  },
  {
   "cell_type": "code",
   "execution_count": 34,
   "metadata": {
    "collapsed": false
   },
   "outputs": [
    {
     "data": {
      "text/plain": [
       "0.14814814814814814"
      ]
     },
     "execution_count": 34,
     "metadata": {},
     "output_type": "execute_result"
    }
   ],
   "source": [
    "similarity_euclides(critics, 'Lisa Rose', 'Gene Seymour')"
   ]
  },
  {
   "cell_type": "code",
   "execution_count": 35,
   "metadata": {
    "collapsed": false
   },
   "outputs": [
    {
     "data": {
      "text/plain": [
       "1.0"
      ]
     },
     "execution_count": 35,
     "metadata": {},
     "output_type": "execute_result"
    }
   ],
   "source": [
    "similarity_euclides(critics, 'Mick LaSalle', 'Mick LaSalle')"
   ]
  },
  {
   "cell_type": "markdown",
   "metadata": {},
   "source": [
    "### Pearson similarity distance\n",
    "\n",
    "First locates items that got scores on both. Then calculates sums and sums of squares, and sum of products. And use those sums to calculate Pearson correlation.\n",
    "\n",
    "\n",
    "Returns values between -1 and 1. "
   ]
  },
  {
   "cell_type": "code",
   "execution_count": 42,
   "metadata": {
    "collapsed": false
   },
   "outputs": [],
   "source": [
    "def similarity_pearson(scores, person1, person2):\n",
    "    shared_items = get_shared_items(scores, person1, person2)\n",
    "    \n",
    "    elements_count = len(shared_items)\n",
    "    if elements_count == 0:\n",
    "        return 0\n",
    "    \n",
    "    sum_person1 = sum([scores[person1][item] for item in shared_items.keys()])\n",
    "    sum_person2 = sum([scores[person2][item] for item in shared_items.keys()])\n",
    "    \n",
    "    sum_squares_person1 = sum([pow(scores[person1][item], 2) for item in shared_items.keys()])\n",
    "    sum_squares_person2 = sum([pow(scores[person2][item], 2) for item in shared_items.keys()])\n",
    "    \n",
    "    sum_products = sum([scores[person1][item] * scores[person1][item] for item in shared_items.keys()])\n",
    "    \n",
    "    numerator = sum_products - (sum_person1 * sum_person2 / elements_count)\n",
    "    denominator = pow((sum_squares_person1 - pow(sum_person1, 2) / elements_count) \\\n",
    "                *     (sum_squares_person2 - pow(sum_person2, 2) / elements_count), 0.5)\n",
    "\n",
    "    if denominator == 0 :\n",
    "        return 0\n",
    "    \n",
    "    return numerator/denominator"
   ]
  },
  {
   "cell_type": "code",
   "execution_count": 45,
   "metadata": {
    "collapsed": false
   },
   "outputs": [],
   "source": [
    "# Source http://stackoverflow.com/a/5713856\n",
    "def pearsonr(x, y):\n",
    "    # Assume len(x) == len(y)\n",
    "    n = len(x)\n",
    "    sum_x = float(sum(x))\n",
    "    sum_y = float(sum(y))\n",
    "    sum_x_sq = sum(map(lambda x: pow(x, 2), x))\n",
    "    sum_y_sq = sum(map(lambda x: pow(x, 2), y))\n",
    "    psum = sum(map(lambda x, y: x * y, x, y))\n",
    "    num = psum - (sum_x * sum_y/n)\n",
    "    den = pow((sum_x_sq - pow(sum_x, 2) / n) * (sum_y_sq - pow(sum_y, 2) / n), 0.5)\n",
    "    if den == 0: return 0\n",
    "    return num / den"
   ]
  },
  {
   "cell_type": "code",
   "execution_count": 48,
   "metadata": {
    "collapsed": true
   },
   "outputs": [],
   "source": [
    "def similarity_pearson_stackoverflow(scores, person1, person2):\n",
    "    shared_items = get_shared_items(scores, person1, person2)\n",
    "    x = [scores[person1][item] for item in shared_items.keys()]\n",
    "    y = [scores[person2][item] for item in shared_items.keys()]\n",
    "    \n",
    "    return pearsonr(x, y)"
   ]
  },
  {
   "cell_type": "code",
   "execution_count": null,
   "metadata": {
    "collapsed": true
   },
   "outputs": [],
   "source": []
  },
  {
   "cell_type": "code",
   "execution_count": 49,
   "metadata": {
    "collapsed": false
   },
   "outputs": [
    {
     "data": {
      "text/plain": [
       "-1.3862065601673441"
      ]
     },
     "execution_count": 49,
     "metadata": {},
     "output_type": "execute_result"
    }
   ],
   "source": [
    "similarity_pearson(critics, 'Lisa Rose', 'Gene Seymour')"
   ]
  },
  {
   "cell_type": "code",
   "execution_count": 50,
   "metadata": {
    "collapsed": false
   },
   "outputs": [
    {
     "data": {
      "text/plain": [
       "0.39605901719066977"
      ]
     },
     "execution_count": 50,
     "metadata": {},
     "output_type": "execute_result"
    }
   ],
   "source": [
    "similarity_pearson_stackoverflow(critics, 'Lisa Rose', 'Gene Seymour')"
   ]
  },
  {
   "cell_type": "code",
   "execution_count": null,
   "metadata": {
    "collapsed": true
   },
   "outputs": [],
   "source": []
  }
 ],
 "metadata": {
  "kernelspec": {
   "display_name": "Python 3",
   "language": "python",
   "name": "python3"
  },
  "language_info": {
   "codemirror_mode": {
    "name": "ipython",
    "version": 3
   },
   "file_extension": ".py",
   "mimetype": "text/x-python",
   "name": "python",
   "nbconvert_exporter": "python",
   "pygments_lexer": "ipython3",
   "version": "3.5.1"
  }
 },
 "nbformat": 4,
 "nbformat_minor": 1
}
