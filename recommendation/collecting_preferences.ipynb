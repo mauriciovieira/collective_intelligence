{
 "cells": [
  {
   "cell_type": "markdown",
   "metadata": {},
   "source": [
    "# First steps following the book"
   ]
  },
  {
   "cell_type": "code",
   "execution_count": 1,
   "metadata": {
    "collapsed": true
   },
   "outputs": [],
   "source": [
    "critics = {\n",
    "    'Lisa Rose': {\n",
    "        'Lady in the Water': 2.5, \n",
    "        'Snakes on a Plane': 3.5, \n",
    "        'Just My Luck': 3.0, \n",
    "        'Superman Returns': 3.5, \n",
    "        'You, Me and Dupree': 2.5, \n",
    "        'The Night Listener': 3.0,\n",
    "    },\n",
    "    'Gene Seymour': {\n",
    "        'Lady in the Water': 3.0,\n",
    "        'Snakes on a Plane': 3.5,\n",
    "        'Just My Luck': 1.5,\n",
    "        'Superman Returns': 5.0,\n",
    "        'You, Me and Dupree': 3.5,\n",
    "        'The Night Listener': 3.0,\n",
    "    },\n",
    "    'Michael Phillips': {\n",
    "        'Lady in the Water': 2.5,\n",
    "        'Snakes on a Plane': 3.0, \n",
    "        'Superman Returns': 3.5, \n",
    "        'The Night Listener': 4.0,\n",
    "    },\n",
    "    'Claudia Puig': {\n",
    "        'Snakes on a Plane': 3.5,\n",
    "        'Just My Luck': 3.0,\n",
    "        'The Night Listener': 4.5,\n",
    "        'Superman Returns': 4.0,\n",
    "        'You, Me and Dupree': 2.5,\n",
    "    },\n",
    "    'Mick LaSalle': {\n",
    "        'Lady in the Water': 3.0,\n",
    "        'Snakes on a Plane': 4.0, \n",
    "        'Just My Luck': 2.0, \n",
    "        'Superman Returns': 3.0, \n",
    "        'The Night Listener': 3.0,\n",
    "        'You, Me and Dupree': 2.0,\n",
    "    },\n",
    "    'Jack Mattews': {\n",
    "        'Lady in the Water': 3.0,\n",
    "        'Snakes on a Plane': 4.0, \n",
    "        'The Night Listener': 3.0,\n",
    "        'Superman Returns': 5.0,\n",
    "        'You, Me and Dupree': 3.5,\n",
    "    },\n",
    "    'Toby': {\n",
    "        'Snakes on a Plane': 4.5,\n",
    "        'You, Me and Dupree': 1.0,\n",
    "        'Superman Returns': 4.0,\n",
    "    }\n",
    "}"
   ]
  },
  {
   "cell_type": "code",
   "execution_count": 2,
   "metadata": {
    "collapsed": false
   },
   "outputs": [
    {
     "data": {
      "text/plain": [
       "2.5"
      ]
     },
     "execution_count": 2,
     "metadata": {},
     "output_type": "execute_result"
    }
   ],
   "source": [
    "critics['Lisa Rose']['Lady in the Water']"
   ]
  },
  {
   "cell_type": "code",
   "execution_count": 3,
   "metadata": {
    "collapsed": false
   },
   "outputs": [
    {
     "data": {
      "text/plain": [
       "{'Snakes on a Plane': 4.5, 'Superman Returns': 4.0, 'You, Me and Dupree': 1.0}"
      ]
     },
     "execution_count": 3,
     "metadata": {},
     "output_type": "execute_result"
    }
   ],
   "source": [
    "critics['Toby']"
   ]
  },
  {
   "cell_type": "markdown",
   "metadata": {},
   "source": [
    "## Finding similar users\n",
    "\n",
    "TODO: draw a plot y = movie1, x = movie2 for all users\n",
    "\n"
   ]
  },
  {
   "cell_type": "markdown",
   "metadata": {},
   "source": [
    "### Euclidean similarity distance\n",
    "\n",
    "0 if nothing in common, 1 if equal"
   ]
  },
  {
   "cell_type": "code",
   "execution_count": 4,
   "metadata": {
    "collapsed": true
   },
   "outputs": [],
   "source": [
    "def get_shared_items(critics, person1, person2):\n",
    "    shared_items = {}\n",
    "    for item in critics[person1]:\n",
    "        if item in critics[person2]:\n",
    "            shared_items[item] = True\n",
    "    return shared_items"
   ]
  },
  {
   "cell_type": "code",
   "execution_count": 5,
   "metadata": {
    "collapsed": true
   },
   "outputs": [],
   "source": [
    "def similarity_euclides(critics, person1, person2):\n",
    "    shared_items = get_shared_items(critics, person1, person2)\n",
    "    if len(shared_items) == 0:\n",
    "        return 0\n",
    "    \n",
    "    sum_of_squares = sum(pow(critics[person1][item] - critics[person2][item], 2)\n",
    "                        for item in shared_items.keys())\n",
    "    \n",
    "    return 1/(1 + sum_of_squares)"
   ]
  },
  {
   "cell_type": "code",
   "execution_count": 6,
   "metadata": {
    "collapsed": false
   },
   "outputs": [
    {
     "data": {
      "text/plain": [
       "0.14814814814814814"
      ]
     },
     "execution_count": 6,
     "metadata": {},
     "output_type": "execute_result"
    }
   ],
   "source": [
    "similarity_euclides(critics, 'Lisa Rose', 'Gene Seymour')"
   ]
  },
  {
   "cell_type": "code",
   "execution_count": 7,
   "metadata": {
    "collapsed": false
   },
   "outputs": [
    {
     "data": {
      "text/plain": [
       "1.0"
      ]
     },
     "execution_count": 7,
     "metadata": {},
     "output_type": "execute_result"
    }
   ],
   "source": [
    "similarity_euclides(critics, 'Mick LaSalle', 'Mick LaSalle')"
   ]
  },
  {
   "cell_type": "markdown",
   "metadata": {},
   "source": [
    "### Pearson similarity distance\n",
    "\n",
    "First locates items that got critics on both. Then calculates sums and sums of squares, and sum of products. And use those sums to calculate Pearson correlation.\n",
    "\n",
    "\n",
    "Returns values between -1 and 1. "
   ]
  },
  {
   "cell_type": "code",
   "execution_count": 8,
   "metadata": {
    "collapsed": false
   },
   "outputs": [],
   "source": [
    "def similarity_pearson_book(critics, person1, person2):\n",
    "    shared_items = get_shared_items(critics, person1, person2)\n",
    "    \n",
    "    elements_count = len(shared_items)\n",
    "    if elements_count == 0:\n",
    "        return 0\n",
    "    \n",
    "    sum_person1 = sum([critics[person1][item] for item in shared_items.keys()])\n",
    "    sum_person2 = sum([critics[person2][item] for item in shared_items.keys()])\n",
    "    \n",
    "    sum_squares_person1 = sum([pow(critics[person1][item], 2) for item in shared_items.keys()])\n",
    "    sum_squares_person2 = sum([pow(critics[person2][item], 2) for item in shared_items.keys()])\n",
    "    \n",
    "    sum_products = sum([critics[person1][item] * critics[person2][item] for item in shared_items.keys()])\n",
    "    \n",
    "    numerator = sum_products - (sum_person1 * sum_person2 / elements_count)\n",
    "    denominator = pow((sum_squares_person1 - pow(sum_person1, 2) / elements_count) \\\n",
    "                *     (sum_squares_person2 - pow(sum_person2, 2) / elements_count), 0.5)\n",
    "\n",
    "    if denominator == 0 :\n",
    "        return 0\n",
    "    \n",
    "    return numerator/denominator"
   ]
  },
  {
   "cell_type": "code",
   "execution_count": 9,
   "metadata": {
    "collapsed": false
   },
   "outputs": [],
   "source": [
    "# Source http://stackoverflow.com/a/5713856\n",
    "def pearsonr(x, y):\n",
    "    # Assume len(x) == len(y)\n",
    "    n = len(x)\n",
    "    sum_x = float(sum(x))\n",
    "    sum_y = float(sum(y))\n",
    "    sum_x_sq = sum(map(lambda x: pow(x, 2), x))\n",
    "    sum_y_sq = sum(map(lambda x: pow(x, 2), y))\n",
    "    psum = sum(map(lambda x, y: x * y, x, y))\n",
    "    num = psum - (sum_x * sum_y/n)\n",
    "    den = pow((sum_x_sq - pow(sum_x, 2) / n) * (sum_y_sq - pow(sum_y, 2) / n), 0.5)\n",
    "    if den == 0: return 0\n",
    "    return num / den"
   ]
  },
  {
   "cell_type": "code",
   "execution_count": 10,
   "metadata": {
    "collapsed": true
   },
   "outputs": [],
   "source": [
    "def similarity_pearson(critics, person1, person2):\n",
    "    shared_items = get_shared_items(critics, person1, person2)\n",
    "    x = [critics[person1][item] for item in shared_items.keys()]\n",
    "    y = [critics[person2][item] for item in shared_items.keys()]\n",
    "    \n",
    "    return pearsonr(x, y)"
   ]
  },
  {
   "cell_type": "code",
   "execution_count": 13,
   "metadata": {
    "collapsed": false
   },
   "outputs": [
    {
     "data": {
      "text/plain": [
       "0.39605901719066977"
      ]
     },
     "execution_count": 13,
     "metadata": {},
     "output_type": "execute_result"
    }
   ],
   "source": [
    "similarity_pearson_book(critics, 'Lisa Rose', 'Gene Seymour')"
   ]
  },
  {
   "cell_type": "code",
   "execution_count": 14,
   "metadata": {
    "collapsed": false
   },
   "outputs": [
    {
     "data": {
      "text/plain": [
       "0.39605901719066977"
      ]
     },
     "execution_count": 14,
     "metadata": {},
     "output_type": "execute_result"
    }
   ],
   "source": [
    "similarity_pearson(critics, 'Lisa Rose', 'Gene Seymour')"
   ]
  },
  {
   "cell_type": "markdown",
   "metadata": {
    "collapsed": true
   },
   "source": [
    "## Matching similar people\n",
    "\n",
    "Calculate who are the similar persons to a given person\n",
    "\n"
   ]
  },
  {
   "cell_type": "code",
   "execution_count": 15,
   "metadata": {
    "collapsed": false
   },
   "outputs": [],
   "source": [
    "def top_matches(critics, person, n=5, similarity=similarity_pearson):\n",
    "    scores = [ (similarity(critics, person, other), other) \n",
    "              for other in critics if other != person ]\n",
    "    scores.sort()\n",
    "    scores.reverse()\n",
    "    return scores[:n]"
   ]
  },
  {
   "cell_type": "code",
   "execution_count": 16,
   "metadata": {
    "collapsed": false
   },
   "outputs": [
    {
     "data": {
      "text/plain": [
       "[(0.9912407071619299, 'Lisa Rose'),\n",
       " (0.9244734516419049, 'Mick LaSalle'),\n",
       " (0.8934051474415647, 'Claudia Puig')]"
      ]
     },
     "execution_count": 16,
     "metadata": {},
     "output_type": "execute_result"
    }
   ],
   "source": [
    "top_matches(critics, 'Toby', n=3)"
   ]
  },
  {
   "cell_type": "markdown",
   "metadata": {},
   "source": [
    "## Recommending Items\n",
    "\n",
    "Weighted average to classify unscored books"
   ]
  },
  {
   "cell_type": "code",
   "execution_count": 17,
   "metadata": {
    "collapsed": false
   },
   "outputs": [],
   "source": [
    "def get_recommendations(critics, person, similarity=similarity_pearson):\n",
    "    totals = {}\n",
    "    sim_sums = {}\n",
    "    for other in critics:\n",
    "        if other == person: \n",
    "            continue\n",
    "        \n",
    "        sim = similarity(critics, person, other)\n",
    "        if sim <= 0: \n",
    "            continue\n",
    "\n",
    "        for item in critics[other]:\n",
    "            \n",
    "            #only for movies I have not watched yet\n",
    "            if item not in critics[person] or critics[person][item] == 0:\n",
    "                \n",
    "                totals.setdefault(item,0)\n",
    "                totals[item] += critics[other][item] * sim\n",
    "                \n",
    "                sim_sums.setdefault(item, 0)\n",
    "                sim_sums[item] += sim\n",
    "\n",
    "    #normalizes\n",
    "    rankings = [ (total/sim_sums[item], item) for item, total in totals.items() ]\n",
    "    \n",
    "    rankings.sort()\n",
    "    rankings.reverse()\n",
    "    return rankings"
   ]
  },
  {
   "cell_type": "markdown",
   "metadata": {},
   "source": [
    "Returns a ordered list with a guess of how would Toby score each film he haven't watched yet"
   ]
  },
  {
   "cell_type": "code",
   "execution_count": 18,
   "metadata": {
    "collapsed": false
   },
   "outputs": [
    {
     "data": {
      "text/plain": [
       "[(3.3477895267131017, 'The Night Listener'),\n",
       " (2.8325499182641614, 'Lady in the Water'),\n",
       " (2.530980703765565, 'Just My Luck')]"
      ]
     },
     "execution_count": 18,
     "metadata": {},
     "output_type": "execute_result"
    }
   ],
   "source": [
    "get_recommendations(critics=critics, person='Toby')"
   ]
  },
  {
   "cell_type": "code",
   "execution_count": 19,
   "metadata": {
    "collapsed": false
   },
   "outputs": [
    {
     "data": {
      "text/plain": [
       "[(3.5002478401415877, 'The Night Listener'),\n",
       " (2.7561242939959363, 'Lady in the Water'),\n",
       " (2.461988486074374, 'Just My Luck')]"
      ]
     },
     "execution_count": 19,
     "metadata": {},
     "output_type": "execute_result"
    }
   ],
   "source": [
    "get_recommendations(critics=critics, person='Toby', similarity=similarity_euclides)"
   ]
  },
  {
   "cell_type": "code",
   "execution_count": 20,
   "metadata": {
    "collapsed": false
   },
   "outputs": [
    {
     "name": "stdout",
     "output_type": "stream",
     "text": [
      "{'Toby': {'You, Me and Dupree': 1.0, 'Superman Returns': 4.0, 'Snakes on a Plane': 4.5}, 'Michael Phillips': {'Lady in the Water': 2.5, 'Superman Returns': 3.5, 'Snakes on a Plane': 3.0, 'The Night Listener': 4.0}, 'Gene Seymour': {'You, Me and Dupree': 3.5, 'Superman Returns': 5.0, 'Lady in the Water': 3.0, 'Just My Luck': 1.5, 'The Night Listener': 3.0, 'Snakes on a Plane': 3.5}, 'Claudia Puig': {'You, Me and Dupree': 2.5, 'Superman Returns': 4.0, 'Just My Luck': 3.0, 'The Night Listener': 4.5, 'Snakes on a Plane': 3.5}, 'Lisa Rose': {'You, Me and Dupree': 2.5, 'Superman Returns': 3.5, 'Lady in the Water': 2.5, 'Just My Luck': 3.0, 'The Night Listener': 3.0, 'Snakes on a Plane': 3.5}, 'Mick LaSalle': {'You, Me and Dupree': 2.0, 'Superman Returns': 3.0, 'Lady in the Water': 3.0, 'Just My Luck': 2.0, 'The Night Listener': 3.0, 'Snakes on a Plane': 4.0}, 'Jack Mattews': {'You, Me and Dupree': 3.5, 'Superman Returns': 5.0, 'Lady in the Water': 3.0, 'The Night Listener': 3.0, 'Snakes on a Plane': 4.0}}\n"
     ]
    }
   ],
   "source": [
    "print(critics)"
   ]
  },
  {
   "cell_type": "code",
   "execution_count": 21,
   "metadata": {
    "collapsed": false
   },
   "outputs": [
    {
     "name": "stdout",
     "output_type": "stream",
     "text": [
      "{'You, Me and Dupree': 1.0, 'Superman Returns': 4.0, 'Snakes on a Plane': 4.5}\n"
     ]
    }
   ],
   "source": [
    "print(critics['Toby'])"
   ]
  },
  {
   "cell_type": "markdown",
   "metadata": {},
   "source": [
    "# Finding similar products\n",
    "\n",
    "Instead of people, map the critics by products"
   ]
  },
  {
   "cell_type": "code",
   "execution_count": 22,
   "metadata": {
    "collapsed": true
   },
   "outputs": [],
   "source": [
    "def transform_critics(critics):\n",
    "    result = {}\n",
    "    for person in critics:\n",
    "        for item in critics[person]:\n",
    "            result.setdefault(item, {})\n",
    "            \n",
    "            result[item][person] = critics[person][item]\n",
    "    return result"
   ]
  },
  {
   "cell_type": "code",
   "execution_count": 23,
   "metadata": {
    "collapsed": true
   },
   "outputs": [],
   "source": [
    "movies = transform_critics(critics)"
   ]
  },
  {
   "cell_type": "code",
   "execution_count": 24,
   "metadata": {
    "collapsed": false
   },
   "outputs": [
    {
     "name": "stdout",
     "output_type": "stream",
     "text": [
      "{'You, Me and Dupree': {'Toby': 1.0, 'Gene Seymour': 3.5, 'Jack Mattews': 3.5, 'Claudia Puig': 2.5, 'Mick LaSalle': 2.0, 'Lisa Rose': 2.5}, 'Superman Returns': {'Toby': 4.0, 'Michael Phillips': 3.5, 'Gene Seymour': 5.0, 'Jack Mattews': 5.0, 'Claudia Puig': 4.0, 'Mick LaSalle': 3.0, 'Lisa Rose': 3.5}, 'Lady in the Water': {'Mick LaSalle': 3.0, 'Lisa Rose': 2.5, 'Michael Phillips': 2.5, 'Gene Seymour': 3.0, 'Jack Mattews': 3.0}, 'Just My Luck': {'Claudia Puig': 3.0, 'Mick LaSalle': 2.0, 'Gene Seymour': 1.5, 'Lisa Rose': 3.0}, 'The Night Listener': {'Michael Phillips': 4.0, 'Gene Seymour': 3.0, 'Jack Mattews': 3.0, 'Claudia Puig': 4.5, 'Mick LaSalle': 3.0, 'Lisa Rose': 3.0}, 'Snakes on a Plane': {'Toby': 4.5, 'Michael Phillips': 3.0, 'Gene Seymour': 3.5, 'Jack Mattews': 4.0, 'Claudia Puig': 3.5, 'Mick LaSalle': 4.0, 'Lisa Rose': 3.5}}\n"
     ]
    }
   ],
   "source": [
    "print(movies)"
   ]
  },
  {
   "cell_type": "code",
   "execution_count": 26,
   "metadata": {
    "collapsed": false
   },
   "outputs": [
    {
     "data": {
      "text/plain": [
       "[(0.6579516949597695, 'You, Me and Dupree'),\n",
       " (0.4879500364742689, 'Lady in the Water'),\n",
       " (0.11180339887498941, 'Snakes on a Plane'),\n",
       " (-0.1798471947990544, 'The Night Listener'),\n",
       " (-0.42289003161103106, 'Just My Luck')]"
      ]
     },
     "execution_count": 26,
     "metadata": {},
     "output_type": "execute_result"
    }
   ],
   "source": [
    "top_matches(movies, 'Superman Returns')"
   ]
  },
  {
   "cell_type": "code",
   "execution_count": 27,
   "metadata": {
    "collapsed": false
   },
   "outputs": [
    {
     "data": {
      "text/plain": [
       "[(4.0, 'Michael Phillips'), (3.0, 'Jack Mattews')]"
      ]
     },
     "execution_count": 27,
     "metadata": {},
     "output_type": "execute_result"
    }
   ],
   "source": [
    "get_recommendations(movies, 'Just My Luck')"
   ]
  },
  {
   "cell_type": "markdown",
   "metadata": {
    "collapsed": true
   },
   "source": [
    "## PyDelicious\n",
    "\n",
    "First load the credentials"
   ]
  },
  {
   "cell_type": "code",
   "execution_count": 1,
   "metadata": {
    "collapsed": false
   },
   "outputs": [],
   "source": [
    "import os\n",
    "from os.path import join, dirname\n",
    "from dotenv import load_dotenv\n",
    "\n",
    "dotenv_path = '.env'\n",
    "load_dotenv(dotenv_path)\n",
    "\n",
    "delicious_user = os.environ.get(\"DELICIOUS_USER\")\n",
    "delicious_password = os.environ.get(\"DELICIOUS_PASSWORD\")"
   ]
  },
  {
   "cell_type": "markdown",
   "metadata": {},
   "source": [
    "Then connect to delicious"
   ]
  },
  {
   "cell_type": "code",
   "execution_count": 2,
   "metadata": {
    "collapsed": false
   },
   "outputs": [],
   "source": [
    "from pydelicious import DeliciousAPI\n",
    "delicious_api = DeliciousAPI(user=delicious_user, passwd=delicious_password)"
   ]
  },
  {
   "cell_type": "markdown",
   "metadata": {},
   "source": [
    "Get some tags"
   ]
  },
  {
   "cell_type": "code",
   "execution_count": 3,
   "metadata": {
    "collapsed": true
   },
   "outputs": [],
   "source": [
    "tags = delicious_api.tags_get()"
   ]
  },
  {
   "cell_type": "code",
   "execution_count": 4,
   "metadata": {
    "collapsed": false
   },
   "outputs": [
    {
     "name": "stdout",
     "output_type": "stream",
     "text": [
      "{'tags': [{'count': '40', 'tag': 'node.js'}, {'count': '36', 'tag': 'javascript'}, {'count': '28', 'tag': 'tutorial'}, {'count': '17', 'tag': 'howtocode'}, {'count': '13', 'tag': 'html5'}, {'count': '10', 'tag': 'framework'}, {'count': '9', 'tag': 'development'}, {'count': '9', 'tag': 'git'}, {'count': '8', 'tag': 'css'}, {'count': '7', 'tag': 'agile'}, {'count': '7', 'tag': 'hosting'}, {'count': '6', 'tag': 'screencast'}, {'count': '6', 'tag': 'template'}, {'count': '6', 'tag': 'article'}, {'count': '6', 'tag': 'security'}, {'count': '6', 'tag': 'tools'}, {'count': '6', 'tag': 'File transfer in XMPP'}, {'count': '6', 'tag': 'mongodb'}, {'count': '5', 'tag': 'xmpp'}, {'count': '5', 'tag': 'web'}, {'count': '5', 'tag': 'video'}, {'count': '5', 'tag': 'tdd'}, {'count': '5', 'tag': 'programming'}, {'count': '5', 'tag': 'privacy'}, {'count': '5', 'tag': 'encryption'}, {'count': '5', 'tag': 'jobsintegra'}, {'count': '4', 'tag': 'Vegetarian recipes'}, {'count': '4', 'tag': 'recipe'}, {'count': '4', 'tag': 'blog'}, {'count': '4', 'tag': 'opensource'}, {'count': '4', 'tag': 'python'}, {'count': '4', 'tag': 'social networking site'}, {'count': '4', 'tag': 'php'}, {'count': '4', 'tag': 'podcast'}, {'count': '4', 'tag': 'ruby'}, {'count': '4', 'tag': 'webdesign'}, {'count': '4', 'tag': 'webdev'}, {'count': '3', 'tag': 'infoq'}, {'count': '3', 'tag': 'reference'}, {'count': '3', 'tag': 'startup'}, {'count': '3', 'tag': 'bdd'}, {'count': '3', 'tag': 'gamedev'}, {'count': '3', 'tag': 'comparison'}, {'count': '3', 'tag': 'gitorious'}, {'count': '3', 'tag': 'book'}, {'count': '3', 'tag': 'file-transfer'}, {'count': '3', 'tag': 'rails'}, {'count': '3', 'tag': 'editor'}, {'count': '3', 'tag': 'jquery'}, {'count': '3', 'tag': 'pgp'}, {'count': '3', 'tag': 'browser'}, {'count': '3', 'tag': 'heroku'}, {'count': '3', 'tag': 'android'}, {'count': '3', 'tag': 'templates'}, {'count': '3', 'tag': 'tourism'}, {'count': '2', 'tag': 'nosql'}, {'count': '2', 'tag': 'icons'}, {'count': '2', 'tag': 'sql'}, {'count': '2', 'tag': 'presentation'}, {'count': '2', 'tag': 'resources'}, {'count': '2', 'tag': 'css3'}, {'count': '2', 'tag': 'SublimeText'}, {'count': '2', 'tag': 'facebook'}, {'count': '2', 'tag': 'anonymous'}, {'count': '2', 'tag': 'linux'}, {'count': '2', 'tag': 'learning'}, {'count': '2', 'tag': 'theatre'}, {'count': '2', 'tag': 'conference'}, {'count': '2', 'tag': 'repository'}, {'count': '2', 'tag': 'mobile'}, {'count': '2', 'tag': 'tooling'}, {'count': '2', 'tag': 'js'}, {'count': '2', 'tag': 'language'}, {'count': '2', 'tag': 'mvc'}, {'count': '2', 'tag': 'backup'}, {'count': '2', 'tag': 'api'}, {'count': '2', 'tag': 'crypto'}, {'count': '2', 'tag': 'tor'}, {'count': '2', 'tag': 'gpg'}, {'count': '2', 'tag': 'wordpress'}, {'count': '2', 'tag': 'ood'}, {'count': '2', 'tag': 'gnupg'}, {'count': '2', 'tag': 'proxy'}, {'count': '2', 'tag': 'chat'}, {'count': '2', 'tag': 'contest'}, {'count': '2', 'tag': 'html'}, {'count': '2', 'tag': 'cheatsheet'}, {'count': '2', 'tag': 'KeySigning'}, {'count': '2', 'tag': 'http'}, {'count': '2', 'tag': 'backbone.js'}, {'count': '2', 'tag': 'debian'}, {'count': '2', 'tag': 'jekyll'}, {'count': '2', 'tag': 'free'}, {'count': '2', 'tag': 'software'}, {'count': '1', 'tag': 'humans.txt'}, {'count': '1', 'tag': 'tutoriais'}, {'count': '1', 'tag': 'infoviz'}, {'count': '1', 'tag': 'colors'}, {'count': '1', 'tag': 'session'}, {'count': '1', 'tag': 'gestão'}, {'count': '1', 'tag': 'concurrency'}, {'count': '1', 'tag': 'hack'}, {'count': '1', 'tag': 'openstack'}, {'count': '1', 'tag': 'academic'}, {'count': '1', 'tag': 'generator'}, {'count': '1', 'tag': 'gpg security sign'}, {'count': '1', 'tag': 'prism'}, {'count': '1', 'tag': 'desktop'}, {'count': '1', 'tag': 'theme'}, {'count': '1', 'tag': 'bookmarking'}, {'count': '1', 'tag': 'text'}, {'count': '1', 'tag': 'usage'}, {'count': '1', 'tag': 'erlang'}, {'count': '1', 'tag': 'webrtc'}, {'count': '1', 'tag': 'kanban'}, {'count': '1', 'tag': 'ember.js'}, {'count': '1', 'tag': 'cryptography'}, {'count': '1', 'tag': 'livecd'}, {'count': '1', 'tag': 'windowmanager'}, {'count': '1', 'tag': 'html5 games'}, {'count': '1', 'tag': 'howto'}, {'count': '1', 'tag': 'auth'}, {'count': '1', 'tag': 'uthsclib'}, {'count': '1', 'tag': 'qualis'}, {'count': '1', 'tag': 'guide'}, {'count': '1', 'tag': 'for:@twitter'}, {'count': '1', 'tag': 'PGP/GPG'}, {'count': '1', 'tag': 'drywall.js'}, {'count': '1', 'tag': 'blogging'}, {'count': '1', 'tag': 'cool'}, {'count': '1', 'tag': 'articles'}, {'count': '1', 'tag': 'electronic'}, {'count': '1', 'tag': 'uncle bob'}, {'count': '1', 'tag': 'mapreduce'}, {'count': '1', 'tag': 'server'}, {'count': '1', 'tag': 'diy'}, {'count': '1', 'tag': 'zombies'}, {'count': '1', 'tag': 'keysign'}, {'count': '1', 'tag': 'debug'}, {'count': '1', 'tag': 'video capture'}, {'count': '1', 'tag': 'serpro'}, {'count': '1', 'tag': 'webscraping'}, {'count': '1', 'tag': 'screen scrapping'}, {'count': '1', 'tag': 'cfd'}, {'count': '1', 'tag': 'testing'}, {'count': '1', 'tag': 'library'}, {'count': '1', 'tag': 'bluetooth'}, {'count': '1', 'tag': 'culture'}, {'count': '1', 'tag': 'virtualization'}, {'count': '1', 'tag': 'neo4j'}, {'count': '1', 'tag': 'seo'}, {'count': '1', 'tag': 'railway.js'}, {'count': '1', 'tag': 'standards'}, {'count': '1', 'tag': 'drinks'}, {'count': '1', 'tag': 'user system'}, {'count': '1', 'tag': 'humor'}, {'count': '1', 'tag': 'augmented_reality'}, {'count': '1', 'tag': 'lean'}, {'count': '1', 'tag': 'AMD'}, {'count': '1', 'tag': 'research'}, {'count': '1', 'tag': 'libraries'}, {'count': '1', 'tag': 'web developer'}, {'count': '1', 'tag': 'Game'}, {'count': '1', 'tag': 'score'}, {'count': '1', 'tag': 'flickr'}, {'count': '1', 'tag': 'architecture'}, {'count': '1', 'tag': 'text-editors'}, {'count': '1', 'tag': 'audiovisual'}, {'count': '1', 'tag': 'scalability'}, {'count': '1', 'tag': 'orm'}, {'count': '1', 'tag': 'test-driven'}, {'count': '1', 'tag': 'metodologia_agil'}, {'count': '1', 'tag': 'ios'}, {'count': '1', 'tag': 'indefero'}, {'count': '1', 'tag': 'es5'}, {'count': '1', 'tag': 'installation'}, {'count': '1', 'tag': 'service'}, {'count': '1', 'tag': 'event-driven programming'}, {'count': '1', 'tag': 'html5 video'}, {'count': '1', 'tag': 'lean canvas'}, {'count': '1', 'tag': 'example'}, {'count': '1', 'tag': 'tour'}, {'count': '1', 'tag': 'games'}, {'count': '1', 'tag': 'social'}, {'count': '1', 'tag': 'bosh'}, {'count': '1', 'tag': 'ide'}, {'count': '1', 'tag': 'ufba'}, {'count': '1', 'tag': 'symfony'}, {'count': '1', 'tag': 'geolocation'}, {'count': '1', 'tag': 'secure'}, {'count': '1', 'tag': 'jobsi'}, {'count': '1', 'tag': 'aop'}, {'count': '1', 'tag': 'opengraph'}, {'count': '1', 'tag': 'loader'}, {'count': '1', 'tag': 'webhosting'}, {'count': '1', 'tag': 'Agile em PortuguÃªs'}, {'count': '1', 'tag': 'empresarial'}, {'count': '1', 'tag': 'debconf12'}, {'count': '1', 'tag': 'anonymity'}, {'count': '1', 'tag': 'cloud'}, {'count': '1', 'tag': 'code'}, {'count': '1', 'tag': 'terminal'}, {'count': '1', 'tag': 'statistics'}, {'count': '1', 'tag': 'aosd'}, {'count': '1', 'tag': 'certificate'}, {'count': '1', 'tag': 'system'}, {'count': '1', 'tag': 'strategy'}, {'count': '1', 'tag': 'file system'}, {'count': '1', 'tag': 'global service jam'}, {'count': '1', 'tag': 'music'}, {'count': '1', 'tag': 'iaas'}, {'count': '1', 'tag': 'blueprint'}, {'count': '1', 'tag': 'shell'}, {'count': '1', 'tag': 'datamining'}, {'count': '1', 'tag': 'cleancode'}, {'count': '1', 'tag': 'checklist'}, {'count': '1', 'tag': 'maps'}, {'count': '1', 'tag': 'oop'}, {'count': '1', 'tag': 'oauth'}, {'count': '1', 'tag': 'home exchange'}, {'count': '1', 'tag': 'extension'}, {'count': '1', 'tag': 'bpmn'}, {'count': '1', 'tag': 'solid'}, {'count': '1', 'tag': 'scraping'}, {'count': '1', 'tag': 'devices'}, {'count': '1', 'tag': 'admin'}, {'count': '1', 'tag': 'media capture'}, {'count': '1', 'tag': 'dev'}, {'count': '1', 'tag': 'getUserMedia'}, {'count': '1', 'tag': 'texteditor'}, {'count': '1', 'tag': 'distribution'}, {'count': '1', 'tag': 'sublime'}, {'count': '1', 'tag': 'engine'}, {'count': '1', 'tag': 'generate'}, {'count': '1', 'tag': 'expresso'}, {'count': '1', 'tag': 'websocket'}, {'count': '1', 'tag': 'cinema'}, {'count': '1', 'tag': 'meteor.js'}, {'count': '1', 'tag': 'facom'}, {'count': '1', 'tag': 'wysiwyg'}, {'count': '1', 'tag': 'text-editor'}, {'count': '1', 'tag': 'redis'}, {'count': '1', 'tag': 'lib'}, {'count': '1', 'tag': 'capistrano'}, {'count': '1', 'tag': 'couchdb'}, {'count': '1', 'tag': 'The Art of the Start'}, {'count': '1', 'tag': 'delicious'}, {'count': '1', 'tag': 'attachment'}, {'count': '1', 'tag': 'party'}, {'count': '1', 'tag': 'test'}, {'count': '1', 'tag': 'distro'}, {'count': '1', 'tag': 'crowdfunding'}, {'count': '1', 'tag': 'philosophy'}, {'count': '1', 'tag': 'nsa'}, {'count': '1', 'tag': 'metrics'}, {'count': '1', 'tag': 'catalog'}, {'count': '1', 'tag': 'screencasts'}, {'count': '1', 'tag': 'falacias'}, {'count': '1', 'tag': 'messaging'}, {'count': '1', 'tag': 'dropbox'}, {'count': '1', 'tag': 'pdf'}, {'count': '1', 'tag': 'gallery'}, {'count': '1', 'tag': 'anonymizer'}, {'count': '1', 'tag': 'markup'}, {'count': '1', 'tag': 'audio'}, {'count': '1', 'tag': 'neuro linguistics programming'}, {'count': '1', 'tag': 'refactoring'}, {'count': '1', 'tag': 'epub'}, {'count': '1', 'tag': 'doc'}, {'count': '1', 'tag': 'monetização'}, {'count': '1', 'tag': 'patterns'}, {'count': '1', 'tag': 'SublimeText2'}, {'count': '1', 'tag': 'etherpad'}, {'count': '1', 'tag': 'communication'}, {'count': '1', 'tag': 'etbb'}]}\n"
     ]
    }
   ],
   "source": [
    "print (tags)"
   ]
  },
  {
   "cell_type": "code",
   "execution_count": null,
   "metadata": {
    "collapsed": true
   },
   "outputs": [],
   "source": []
  }
 ],
 "metadata": {
  "kernelspec": {
   "display_name": "Python 3",
   "language": "python",
   "name": "python3"
  },
  "language_info": {
   "codemirror_mode": {
    "name": "ipython",
    "version": 3
   },
   "file_extension": ".py",
   "mimetype": "text/x-python",
   "name": "python",
   "nbconvert_exporter": "python",
   "pygments_lexer": "ipython3",
   "version": "3.5.2"
  }
 },
 "nbformat": 4,
 "nbformat_minor": 1
}
