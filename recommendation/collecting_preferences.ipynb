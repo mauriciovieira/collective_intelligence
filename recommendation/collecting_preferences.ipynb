{
 "cells": [
  {
   "cell_type": "markdown",
   "metadata": {},
   "source": [
    "# First steps following the book"
   ]
  },
  {
   "cell_type": "code",
   "execution_count": 1,
   "metadata": {
    "collapsed": true
   },
   "outputs": [],
   "source": [
    "critics = {\n",
    "    'Lisa Rose': {\n",
    "        'Lady in the Water': 2.5, \n",
    "        'Snakes on a Plane': 3.5, \n",
    "        'Just My Luck': 3.0, \n",
    "        'Superman Returns': 3.5, \n",
    "        'You, Me and Dupree': 2.5, \n",
    "        'The Night Listener': 3.0,\n",
    "    },\n",
    "    'Gene Seymour': {\n",
    "        'Lady in the Water': 3.0,\n",
    "        'Snakes on a Plane': 3.5,\n",
    "        'Just My Luck': 1.5,\n",
    "        'Superman Returns': 5.0,\n",
    "        'You, Me and Dupree': 3.5,\n",
    "        'The Night Listener': 3.0,\n",
    "    },\n",
    "    'Michael Phillips': {\n",
    "        'Lady in the Water': 2.5,\n",
    "        'Snakes on a Plane': 3.0, \n",
    "        'Superman Returns': 3.5, \n",
    "        'The Night Listener': 4.0,\n",
    "    },\n",
    "    'Claudia Puig': {\n",
    "        'Snakes on a Plane': 3.5,\n",
    "        'Just My Luck': 3.0,\n",
    "        'The Night Listener': 4.5,\n",
    "        'Superman Returns': 4.0,\n",
    "        'You, Me and Dupree': 2.5,\n",
    "    },\n",
    "    'Mick LaSalle': {\n",
    "        'Lady in the Water': 3.0,\n",
    "        'Snakes on a Plane': 4.0, \n",
    "        'Just My Luck': 2.0, \n",
    "        'Superman Returns': 3.0, \n",
    "        'The Night Listener': 3.0,\n",
    "        'You, Me and Dupree': 2.0,\n",
    "    },\n",
    "    'Jack Mattews': {\n",
    "        'Lady in the Water': 3.0,\n",
    "        'Snakes on a Plane': 4.0, \n",
    "        'The Night Listener': 3.0,\n",
    "        'Superman Returns': 5.0,\n",
    "        'You, Me and Dupree': 3.5,\n",
    "    },\n",
    "    'Toby': {\n",
    "        'Snakes on a Plane': 4.5,\n",
    "        'You, Me and Dupree': 1.0,\n",
    "        'Superman Returns': 4.0,\n",
    "    }\n",
    "}"
   ]
  },
  {
   "cell_type": "code",
   "execution_count": 2,
   "metadata": {
    "collapsed": false
   },
   "outputs": [
    {
     "data": {
      "text/plain": [
       "2.5"
      ]
     },
     "execution_count": 2,
     "metadata": {},
     "output_type": "execute_result"
    }
   ],
   "source": [
    "critics['Lisa Rose']['Lady in the Water']"
   ]
  },
  {
   "cell_type": "code",
   "execution_count": 3,
   "metadata": {
    "collapsed": false
   },
   "outputs": [
    {
     "data": {
      "text/plain": [
       "{'Snakes on a Plane': 4.5, 'Superman Returns': 4.0, 'You, Me and Dupree': 1.0}"
      ]
     },
     "execution_count": 3,
     "metadata": {},
     "output_type": "execute_result"
    }
   ],
   "source": [
    "critics['Toby']"
   ]
  },
  {
   "cell_type": "markdown",
   "metadata": {},
   "source": [
    "## Finding similar users\n",
    "\n",
    "TODO: draw a plot y = movie1, x = movie2 for all users\n",
    "\n"
   ]
  },
  {
   "cell_type": "markdown",
   "metadata": {},
   "source": [
    "### Euclidean similarity distance\n",
    "\n",
    "0 if nothing in common, 1 if equal"
   ]
  },
  {
   "cell_type": "code",
   "execution_count": 4,
   "metadata": {
    "collapsed": true
   },
   "outputs": [],
   "source": [
    "def get_shared_items(critics, person1, person2):\n",
    "    shared_items = {}\n",
    "    for item in critics[person1]:\n",
    "        if item in critics[person2]:\n",
    "            shared_items[item] = True\n",
    "    return shared_items"
   ]
  },
  {
   "cell_type": "code",
   "execution_count": 5,
   "metadata": {
    "collapsed": true
   },
   "outputs": [],
   "source": [
    "def similarity_euclides(critics, person1, person2):\n",
    "    shared_items = get_shared_items(critics, person1, person2)\n",
    "    if len(shared_items) == 0:\n",
    "        return 0\n",
    "    \n",
    "    sum_of_squares = sum(pow(critics[person1][item] - critics[person2][item], 2)\n",
    "                        for item in shared_items.keys())\n",
    "    \n",
    "    return 1/(1 + sum_of_squares)"
   ]
  },
  {
   "cell_type": "code",
   "execution_count": 6,
   "metadata": {
    "collapsed": false
   },
   "outputs": [
    {
     "data": {
      "text/plain": [
       "0.14814814814814814"
      ]
     },
     "execution_count": 6,
     "metadata": {},
     "output_type": "execute_result"
    }
   ],
   "source": [
    "similarity_euclides(critics, 'Lisa Rose', 'Gene Seymour')"
   ]
  },
  {
   "cell_type": "code",
   "execution_count": 7,
   "metadata": {
    "collapsed": false
   },
   "outputs": [
    {
     "data": {
      "text/plain": [
       "1.0"
      ]
     },
     "execution_count": 7,
     "metadata": {},
     "output_type": "execute_result"
    }
   ],
   "source": [
    "similarity_euclides(critics, 'Mick LaSalle', 'Mick LaSalle')"
   ]
  },
  {
   "cell_type": "markdown",
   "metadata": {},
   "source": [
    "### Pearson similarity distance\n",
    "\n",
    "First locates items that got critics on both. Then calculates sums and sums of squares, and sum of products. And use those sums to calculate Pearson correlation.\n",
    "\n",
    "\n",
    "Returns values between -1 and 1. "
   ]
  },
  {
   "cell_type": "code",
   "execution_count": 8,
   "metadata": {
    "collapsed": false
   },
   "outputs": [],
   "source": [
    "def similarity_pearson_book(critics, person1, person2):\n",
    "    shared_items = get_shared_items(critics, person1, person2)\n",
    "    \n",
    "    elements_count = len(shared_items)\n",
    "    if elements_count == 0:\n",
    "        return 0\n",
    "    \n",
    "    sum_person1 = sum([critics[person1][item] for item in shared_items.keys()])\n",
    "    sum_person2 = sum([critics[person2][item] for item in shared_items.keys()])\n",
    "    \n",
    "    sum_squares_person1 = sum([pow(critics[person1][item], 2) for item in shared_items.keys()])\n",
    "    sum_squares_person2 = sum([pow(critics[person2][item], 2) for item in shared_items.keys()])\n",
    "    \n",
    "    sum_products = sum([critics[person1][item] * critics[person2][item] for item in shared_items.keys()])\n",
    "    \n",
    "    numerator = sum_products - (sum_person1 * sum_person2 / elements_count)\n",
    "    denominator = pow((sum_squares_person1 - pow(sum_person1, 2) / elements_count) \\\n",
    "                *     (sum_squares_person2 - pow(sum_person2, 2) / elements_count), 0.5)\n",
    "\n",
    "    if denominator == 0 :\n",
    "        return 0\n",
    "    \n",
    "    return numerator/denominator"
   ]
  },
  {
   "cell_type": "code",
   "execution_count": 9,
   "metadata": {
    "collapsed": false
   },
   "outputs": [],
   "source": [
    "# Source http://stackoverflow.com/a/5713856\n",
    "def pearsonr(x, y):\n",
    "    # Assume len(x) == len(y)\n",
    "    n = len(x)\n",
    "    sum_x = float(sum(x))\n",
    "    sum_y = float(sum(y))\n",
    "    sum_x_sq = sum(map(lambda x: pow(x, 2), x))\n",
    "    sum_y_sq = sum(map(lambda x: pow(x, 2), y))\n",
    "    psum = sum(map(lambda x, y: x * y, x, y))\n",
    "    num = psum - (sum_x * sum_y/n)\n",
    "    den = pow((sum_x_sq - pow(sum_x, 2) / n) * (sum_y_sq - pow(sum_y, 2) / n), 0.5)\n",
    "    if den == 0: return 0\n",
    "    return num / den"
   ]
  },
  {
   "cell_type": "code",
   "execution_count": 10,
   "metadata": {
    "collapsed": true
   },
   "outputs": [],
   "source": [
    "def similarity_pearson(critics, person1, person2):\n",
    "    shared_items = get_shared_items(critics, person1, person2)\n",
    "    x = [critics[person1][item] for item in shared_items.keys()]\n",
    "    y = [critics[person2][item] for item in shared_items.keys()]\n",
    "    \n",
    "    return pearsonr(x, y)"
   ]
  },
  {
   "cell_type": "code",
   "execution_count": 13,
   "metadata": {
    "collapsed": false
   },
   "outputs": [
    {
     "data": {
      "text/plain": [
       "0.39605901719066977"
      ]
     },
     "execution_count": 13,
     "metadata": {},
     "output_type": "execute_result"
    }
   ],
   "source": [
    "similarity_pearson_book(critics, 'Lisa Rose', 'Gene Seymour')"
   ]
  },
  {
   "cell_type": "code",
   "execution_count": 14,
   "metadata": {
    "collapsed": false
   },
   "outputs": [
    {
     "data": {
      "text/plain": [
       "0.39605901719066977"
      ]
     },
     "execution_count": 14,
     "metadata": {},
     "output_type": "execute_result"
    }
   ],
   "source": [
    "similarity_pearson(critics, 'Lisa Rose', 'Gene Seymour')"
   ]
  },
  {
   "cell_type": "markdown",
   "metadata": {
    "collapsed": true
   },
   "source": [
    "## Matching similar people\n",
    "\n",
    "Calculate who are the similar persons to a given person\n",
    "\n"
   ]
  },
  {
   "cell_type": "code",
   "execution_count": 15,
   "metadata": {
    "collapsed": false
   },
   "outputs": [],
   "source": [
    "def top_matches(critics, person, n=5, similarity=similarity_pearson):\n",
    "    scores = [ (similarity(critics, person, other), other) \n",
    "              for other in critics if other != person ]\n",
    "    scores.sort()\n",
    "    scores.reverse()\n",
    "    return scores[:n]"
   ]
  },
  {
   "cell_type": "code",
   "execution_count": 16,
   "metadata": {
    "collapsed": false
   },
   "outputs": [
    {
     "data": {
      "text/plain": [
       "[(0.9912407071619299, 'Lisa Rose'),\n",
       " (0.9244734516419049, 'Mick LaSalle'),\n",
       " (0.8934051474415647, 'Claudia Puig')]"
      ]
     },
     "execution_count": 16,
     "metadata": {},
     "output_type": "execute_result"
    }
   ],
   "source": [
    "top_matches(critics, 'Toby', n=3)"
   ]
  },
  {
   "cell_type": "markdown",
   "metadata": {},
   "source": [
    "## Recommending Items\n",
    "\n",
    "Weighted average to classify unscored books"
   ]
  },
  {
   "cell_type": "code",
   "execution_count": 17,
   "metadata": {
    "collapsed": false
   },
   "outputs": [],
   "source": [
    "def get_recommendations(critics, person, similarity=similarity_pearson):\n",
    "    totals = {}\n",
    "    sim_sums = {}\n",
    "    for other in critics:\n",
    "        if other == person: \n",
    "            continue\n",
    "        \n",
    "        sim = similarity(critics, person, other)\n",
    "        if sim <= 0: \n",
    "            continue\n",
    "\n",
    "        for item in critics[other]:\n",
    "            \n",
    "            #only for movies I have not watched yet\n",
    "            if item not in critics[person] or critics[person][item] == 0:\n",
    "                \n",
    "                totals.setdefault(item,0)\n",
    "                totals[item] += critics[other][item] * sim\n",
    "                \n",
    "                sim_sums.setdefault(item, 0)\n",
    "                sim_sums[item] += sim\n",
    "\n",
    "    #normalizes\n",
    "    rankings = [ (total/sim_sums[item], item) for item, total in totals.items() ]\n",
    "    \n",
    "    rankings.sort()\n",
    "    rankings.reverse()\n",
    "    return rankings"
   ]
  },
  {
   "cell_type": "markdown",
   "metadata": {},
   "source": [
    "Returns a ordered list with a guess of how would Toby score each film he haven't watched yet"
   ]
  },
  {
   "cell_type": "code",
   "execution_count": 18,
   "metadata": {
    "collapsed": false
   },
   "outputs": [
    {
     "data": {
      "text/plain": [
       "[(3.3477895267131017, 'The Night Listener'),\n",
       " (2.8325499182641614, 'Lady in the Water'),\n",
       " (2.530980703765565, 'Just My Luck')]"
      ]
     },
     "execution_count": 18,
     "metadata": {},
     "output_type": "execute_result"
    }
   ],
   "source": [
    "get_recommendations(critics=critics, person='Toby')"
   ]
  },
  {
   "cell_type": "code",
   "execution_count": 19,
   "metadata": {
    "collapsed": false
   },
   "outputs": [
    {
     "data": {
      "text/plain": [
       "[(3.5002478401415877, 'The Night Listener'),\n",
       " (2.7561242939959363, 'Lady in the Water'),\n",
       " (2.461988486074374, 'Just My Luck')]"
      ]
     },
     "execution_count": 19,
     "metadata": {},
     "output_type": "execute_result"
    }
   ],
   "source": [
    "get_recommendations(critics=critics, person='Toby', similarity=similarity_euclides)"
   ]
  },
  {
   "cell_type": "code",
   "execution_count": 20,
   "metadata": {
    "collapsed": false
   },
   "outputs": [
    {
     "name": "stdout",
     "output_type": "stream",
     "text": [
      "{'Toby': {'You, Me and Dupree': 1.0, 'Superman Returns': 4.0, 'Snakes on a Plane': 4.5}, 'Michael Phillips': {'Lady in the Water': 2.5, 'Superman Returns': 3.5, 'Snakes on a Plane': 3.0, 'The Night Listener': 4.0}, 'Gene Seymour': {'You, Me and Dupree': 3.5, 'Superman Returns': 5.0, 'Lady in the Water': 3.0, 'Just My Luck': 1.5, 'The Night Listener': 3.0, 'Snakes on a Plane': 3.5}, 'Claudia Puig': {'You, Me and Dupree': 2.5, 'Superman Returns': 4.0, 'Just My Luck': 3.0, 'The Night Listener': 4.5, 'Snakes on a Plane': 3.5}, 'Lisa Rose': {'You, Me and Dupree': 2.5, 'Superman Returns': 3.5, 'Lady in the Water': 2.5, 'Just My Luck': 3.0, 'The Night Listener': 3.0, 'Snakes on a Plane': 3.5}, 'Mick LaSalle': {'You, Me and Dupree': 2.0, 'Superman Returns': 3.0, 'Lady in the Water': 3.0, 'Just My Luck': 2.0, 'The Night Listener': 3.0, 'Snakes on a Plane': 4.0}, 'Jack Mattews': {'You, Me and Dupree': 3.5, 'Superman Returns': 5.0, 'Lady in the Water': 3.0, 'The Night Listener': 3.0, 'Snakes on a Plane': 4.0}}\n"
     ]
    }
   ],
   "source": [
    "print(critics)"
   ]
  },
  {
   "cell_type": "code",
   "execution_count": 21,
   "metadata": {
    "collapsed": false
   },
   "outputs": [
    {
     "name": "stdout",
     "output_type": "stream",
     "text": [
      "{'You, Me and Dupree': 1.0, 'Superman Returns': 4.0, 'Snakes on a Plane': 4.5}\n"
     ]
    }
   ],
   "source": [
    "print(critics['Toby'])"
   ]
  },
  {
   "cell_type": "markdown",
   "metadata": {},
   "source": [
    "# Finding similar products\n",
    "\n",
    "Instead of people, map the critics by products"
   ]
  },
  {
   "cell_type": "code",
   "execution_count": 22,
   "metadata": {
    "collapsed": true
   },
   "outputs": [],
   "source": [
    "def transform_critics(critics):\n",
    "    result = {}\n",
    "    for person in critics:\n",
    "        for item in critics[person]:\n",
    "            result.setdefault(item, {})\n",
    "            \n",
    "            result[item][person] = critics[person][item]\n",
    "    return result"
   ]
  },
  {
   "cell_type": "code",
   "execution_count": 23,
   "metadata": {
    "collapsed": true
   },
   "outputs": [],
   "source": [
    "movies = transform_critics(critics)"
   ]
  },
  {
   "cell_type": "code",
   "execution_count": 24,
   "metadata": {
    "collapsed": false
   },
   "outputs": [
    {
     "name": "stdout",
     "output_type": "stream",
     "text": [
      "{'You, Me and Dupree': {'Toby': 1.0, 'Gene Seymour': 3.5, 'Jack Mattews': 3.5, 'Claudia Puig': 2.5, 'Mick LaSalle': 2.0, 'Lisa Rose': 2.5}, 'Superman Returns': {'Toby': 4.0, 'Michael Phillips': 3.5, 'Gene Seymour': 5.0, 'Jack Mattews': 5.0, 'Claudia Puig': 4.0, 'Mick LaSalle': 3.0, 'Lisa Rose': 3.5}, 'Lady in the Water': {'Mick LaSalle': 3.0, 'Lisa Rose': 2.5, 'Michael Phillips': 2.5, 'Gene Seymour': 3.0, 'Jack Mattews': 3.0}, 'Just My Luck': {'Claudia Puig': 3.0, 'Mick LaSalle': 2.0, 'Gene Seymour': 1.5, 'Lisa Rose': 3.0}, 'The Night Listener': {'Michael Phillips': 4.0, 'Gene Seymour': 3.0, 'Jack Mattews': 3.0, 'Claudia Puig': 4.5, 'Mick LaSalle': 3.0, 'Lisa Rose': 3.0}, 'Snakes on a Plane': {'Toby': 4.5, 'Michael Phillips': 3.0, 'Gene Seymour': 3.5, 'Jack Mattews': 4.0, 'Claudia Puig': 3.5, 'Mick LaSalle': 4.0, 'Lisa Rose': 3.5}}\n"
     ]
    }
   ],
   "source": [
    "print(movies)"
   ]
  },
  {
   "cell_type": "code",
   "execution_count": 26,
   "metadata": {
    "collapsed": false
   },
   "outputs": [
    {
     "data": {
      "text/plain": [
       "[(0.6579516949597695, 'You, Me and Dupree'),\n",
       " (0.4879500364742689, 'Lady in the Water'),\n",
       " (0.11180339887498941, 'Snakes on a Plane'),\n",
       " (-0.1798471947990544, 'The Night Listener'),\n",
       " (-0.42289003161103106, 'Just My Luck')]"
      ]
     },
     "execution_count": 26,
     "metadata": {},
     "output_type": "execute_result"
    }
   ],
   "source": [
    "top_matches(movies, 'Superman Returns')"
   ]
  },
  {
   "cell_type": "code",
   "execution_count": 27,
   "metadata": {
    "collapsed": false
   },
   "outputs": [
    {
     "data": {
      "text/plain": [
       "[(4.0, 'Michael Phillips'), (3.0, 'Jack Mattews')]"
      ]
     },
     "execution_count": 27,
     "metadata": {},
     "output_type": "execute_result"
    }
   ],
   "source": [
    "get_recommendations(movies, 'Just My Luck')"
   ]
  },
  {
   "cell_type": "code",
   "execution_count": null,
   "metadata": {
    "collapsed": true
   },
   "outputs": [],
   "source": [
    "\n"
   ]
  }
 ],
 "metadata": {
  "kernelspec": {
   "display_name": "Python 3",
   "language": "python",
   "name": "python3"
  },
  "language_info": {
   "codemirror_mode": {
    "name": "ipython",
    "version": 3
   },
   "file_extension": ".py",
   "mimetype": "text/x-python",
   "name": "python",
   "nbconvert_exporter": "python",
   "pygments_lexer": "ipython3",
   "version": "3.5.2"
  }
 },
 "nbformat": 4,
 "nbformat_minor": 1
}
